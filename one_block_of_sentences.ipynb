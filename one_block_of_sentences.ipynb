{
  "nbformat": 4,
  "nbformat_minor": 0,
  "metadata": {
    "colab": {
      "provenance": [],
      "authorship_tag": "ABX9TyNsnE6n6ofHwick+/KFgKXa",
      "include_colab_link": true
    },
    "kernelspec": {
      "name": "python3",
      "display_name": "Python 3"
    },
    "language_info": {
      "name": "python"
    }
  },
  "cells": [
    {
      "cell_type": "markdown",
      "metadata": {
        "id": "view-in-github",
        "colab_type": "text"
      },
      "source": [
        "<a href=\"https://colab.research.google.com/github/BasilPy/Eng_uk_ru_patterns/blob/main/one_block_of_sentences.ipynb\" target=\"_parent\"><img src=\"https://colab.research.google.com/assets/colab-badge.svg\" alt=\"Open In Colab\"/></a>"
      ]
    },
    {
      "cell_type": "code",
      "execution_count": 1,
      "metadata": {
        "colab": {
          "base_uri": "https://localhost:8080/"
        },
        "id": "uVb8wZz2gVv7",
        "outputId": "feecc624-f3c4-400f-8cce-97ee25f9a3e0"
      },
      "outputs": [
        {
          "output_type": "stream",
          "name": "stdout",
          "text": [
            "Mounted at /content/gdrive\n",
            "Collecting googletrans==3.1.0a0\n",
            "  Downloading googletrans-3.1.0a0.tar.gz (19 kB)\n",
            "  Preparing metadata (setup.py) ... \u001b[?25l\u001b[?25hdone\n",
            "Collecting httpx==0.13.3 (from googletrans==3.1.0a0)\n",
            "  Downloading httpx-0.13.3-py3-none-any.whl (55 kB)\n",
            "\u001b[2K     \u001b[90m━━━━━━━━━━━━━━━━━━━━━━━━━━━━━━━━━━━━━━━━\u001b[0m \u001b[32m55.1/55.1 kB\u001b[0m \u001b[31m4.4 MB/s\u001b[0m eta \u001b[36m0:00:00\u001b[0m\n",
            "\u001b[?25hRequirement already satisfied: certifi in /usr/local/lib/python3.10/dist-packages (from httpx==0.13.3->googletrans==3.1.0a0) (2023.5.7)\n",
            "Collecting hstspreload (from httpx==0.13.3->googletrans==3.1.0a0)\n",
            "  Downloading hstspreload-2023.1.1-py3-none-any.whl (1.5 MB)\n",
            "\u001b[2K     \u001b[90m━━━━━━━━━━━━━━━━━━━━━━━━━━━━━━━━━━━━━━━━\u001b[0m \u001b[32m1.5/1.5 MB\u001b[0m \u001b[31m41.6 MB/s\u001b[0m eta \u001b[36m0:00:00\u001b[0m\n",
            "\u001b[?25hRequirement already satisfied: sniffio in /usr/local/lib/python3.10/dist-packages (from httpx==0.13.3->googletrans==3.1.0a0) (1.3.0)\n",
            "Collecting chardet==3.* (from httpx==0.13.3->googletrans==3.1.0a0)\n",
            "  Downloading chardet-3.0.4-py2.py3-none-any.whl (133 kB)\n",
            "\u001b[2K     \u001b[90m━━━━━━━━━━━━━━━━━━━━━━━━━━━━━━━━━━━━━━\u001b[0m \u001b[32m133.4/133.4 kB\u001b[0m \u001b[31m14.6 MB/s\u001b[0m eta \u001b[36m0:00:00\u001b[0m\n",
            "\u001b[?25hCollecting idna==2.* (from httpx==0.13.3->googletrans==3.1.0a0)\n",
            "  Downloading idna-2.10-py2.py3-none-any.whl (58 kB)\n",
            "\u001b[2K     \u001b[90m━━━━━━━━━━━━━━━━━━━━━━━━━━━━━━━━━━━━━━━━\u001b[0m \u001b[32m58.8/58.8 kB\u001b[0m \u001b[31m7.0 MB/s\u001b[0m eta \u001b[36m0:00:00\u001b[0m\n",
            "\u001b[?25hCollecting rfc3986<2,>=1.3 (from httpx==0.13.3->googletrans==3.1.0a0)\n",
            "  Downloading rfc3986-1.5.0-py2.py3-none-any.whl (31 kB)\n",
            "Collecting httpcore==0.9.* (from httpx==0.13.3->googletrans==3.1.0a0)\n",
            "  Downloading httpcore-0.9.1-py3-none-any.whl (42 kB)\n",
            "\u001b[2K     \u001b[90m━━━━━━━━━━━━━━━━━━━━━━━━━━━━━━━━━━━━━━━━\u001b[0m \u001b[32m42.6/42.6 kB\u001b[0m \u001b[31m4.5 MB/s\u001b[0m eta \u001b[36m0:00:00\u001b[0m\n",
            "\u001b[?25hCollecting h11<0.10,>=0.8 (from httpcore==0.9.*->httpx==0.13.3->googletrans==3.1.0a0)\n",
            "  Downloading h11-0.9.0-py2.py3-none-any.whl (53 kB)\n",
            "\u001b[2K     \u001b[90m━━━━━━━━━━━━━━━━━━━━━━━━━━━━━━━━━━━━━━━━\u001b[0m \u001b[32m53.6/53.6 kB\u001b[0m \u001b[31m6.2 MB/s\u001b[0m eta \u001b[36m0:00:00\u001b[0m\n",
            "\u001b[?25hCollecting h2==3.* (from httpcore==0.9.*->httpx==0.13.3->googletrans==3.1.0a0)\n",
            "  Downloading h2-3.2.0-py2.py3-none-any.whl (65 kB)\n",
            "\u001b[2K     \u001b[90m━━━━━━━━━━━━━━━━━━━━━━━━━━━━━━━━━━━━━━━━\u001b[0m \u001b[32m65.0/65.0 kB\u001b[0m \u001b[31m6.1 MB/s\u001b[0m eta \u001b[36m0:00:00\u001b[0m\n",
            "\u001b[?25hCollecting hyperframe<6,>=5.2.0 (from h2==3.*->httpcore==0.9.*->httpx==0.13.3->googletrans==3.1.0a0)\n",
            "  Downloading hyperframe-5.2.0-py2.py3-none-any.whl (12 kB)\n",
            "Collecting hpack<4,>=3.0 (from h2==3.*->httpcore==0.9.*->httpx==0.13.3->googletrans==3.1.0a0)\n",
            "  Downloading hpack-3.0.0-py2.py3-none-any.whl (38 kB)\n",
            "Building wheels for collected packages: googletrans\n",
            "  Building wheel for googletrans (setup.py) ... \u001b[?25l\u001b[?25hdone\n",
            "  Created wheel for googletrans: filename=googletrans-3.1.0a0-py3-none-any.whl size=16352 sha256=c4c82ad84e209e06669f252550c81e2b28ea62c02106a1455b03786e9571dfc9\n",
            "  Stored in directory: /root/.cache/pip/wheels/50/5d/3c/8477d0af4ca2b8b1308812c09f1930863caeebc762fe265a95\n",
            "Successfully built googletrans\n",
            "Installing collected packages: rfc3986, hyperframe, hpack, h11, chardet, idna, hstspreload, h2, httpcore, httpx, googletrans\n",
            "  Attempting uninstall: chardet\n",
            "    Found existing installation: chardet 4.0.0\n",
            "    Uninstalling chardet-4.0.0:\n",
            "      Successfully uninstalled chardet-4.0.0\n",
            "  Attempting uninstall: idna\n",
            "    Found existing installation: idna 3.4\n",
            "    Uninstalling idna-3.4:\n",
            "      Successfully uninstalled idna-3.4\n",
            "Successfully installed chardet-3.0.4 googletrans-3.1.0a0 h11-0.9.0 h2-3.2.0 hpack-3.0.0 hstspreload-2023.1.1 httpcore-0.9.1 httpx-0.13.3 hyperframe-5.2.0 idna-2.10 rfc3986-1.5.0\n",
            "/content/gdrive/MyDrive/csv_gen_eng_patterns/gen_sentences\n"
          ]
        }
      ],
      "source": [
        "### Connect to Gdrive, import modules, change directory and load csv as a dataframe\n",
        "from google.colab import drive, auth # auth to authorization with gspread API\n",
        "drive.mount('/content/gdrive')\n",
        "\n",
        "import pandas as pd\n",
        "!pip install googletrans==3.1.0a0\n",
        "import googletrans\n",
        "from googletrans import Translator\n",
        "%cd ./gdrive/MyDrive/csv_gen_eng_patterns/gen_sentences/\n",
        "df_data = pd.read_csv('eng_uk_ru_v1.4_36.csv')\n",
        "translator = Translator()"
      ]
    },
    {
      "cell_type": "code",
      "source": [
        "# Authorizing with gspread API\n",
        "import gspread\n",
        "auth.authenticate_user()\n",
        "\n",
        "import gspread\n",
        "from google.auth import default\n",
        "creds, _ = default()\n",
        "\n",
        "gc = gspread.authorize(creds)"
      ],
      "metadata": {
        "id": "lgnVdLJwgun-"
      },
      "execution_count": 3,
      "outputs": []
    },
    {
      "cell_type": "code",
      "source": [
        "# opening worksheet by the key in URL\n",
        "doc = gc.open_by_key('13YaE-6uLp3mxA6hRJ1EsI0nXZ9idS0NGu04gydmZdxA')\n",
        "g_sheet = doc.worksheet('patten_1')"
      ],
      "metadata": {
        "id": "mN6SorpyipmF"
      },
      "execution_count": 4,
      "outputs": []
    },
    {
      "cell_type": "code",
      "source": [
        "# creating lists of pronouns\n",
        "\n",
        "pron_3s = [\"My mother\", \"My father\", \"She\", \"He\", 'It']\n",
        "pron_other = {\"I\":\"ru_I\", \"You\":\"ru_you_vu\", \"You\":\"ru_you_tu\", \"They\":\"ru_they\", \"We\":\"ru_we\", \"Friends\":\"ru_they\"}\n",
        "list_keys = list(pron_other.keys())\n",
        "\n",
        "# creating temprorary dataframes\n",
        "df_3p = pd.DataFrame(pron_3s)\n",
        "df_oth = pd.DataFrame(list_keys)\n",
        "\n",
        "\n",
        "# chosing a verb from dataframe df_data\n",
        "word = 'have'\n",
        "\n",
        "# filling 3 sigular form of present simple constructions\n",
        "for i in pron_3s:\n",
        "  df_3p.loc[pron_3s.index(i),'RU'] =  f\"{translator.translate(i, src='en', dest='ru').text} {df_data.loc[word, 'ru_3s']}\"\n",
        "  df_3p.loc[pron_3s.index(i),'ENG'] =  f\"{i} {df_data.loc[word, '3singular']}\"\n",
        "\n",
        "#filling plural and \"I\" form of present simple constructions\n",
        "for key in list(list_keys):\n",
        "  df_oth.loc[list_keys.index(key),'RU'] =  f\"{translator.translate(key, src='en', dest='ru').text} {df_data.loc[word, pron_other[key]]}\"\n",
        "  df_oth.loc[list_keys.index(key),'ENG'] =  f\"{key} {word}\"\n",
        "\n",
        "# concatination of two temprorary dataframes\n",
        "df_full = pd.concat([df_3p, df_oth], join=\"inner\")\n",
        "df_full.head(10)\n",
        "df_full = df_full.reset_index()\n",
        "df_full = df_full.drop(columns='index')\n",
        "df_full.head(12)\n",
        "# scramble rows\n",
        "df_full = df_full.sample(frac=1).reset_index(drop=True)\n"
      ],
      "metadata": {
        "id": "2otMk8vFg6Xe"
      },
      "execution_count": 9,
      "outputs": []
    },
    {
      "cell_type": "code",
      "source": [
        "g_sheet.update(df_full.values.tolist())"
      ],
      "metadata": {
        "colab": {
          "base_uri": "https://localhost:8080/"
        },
        "id": "lTF851IbixWk",
        "outputId": "ee31b616-cc1b-4a45-c1d6-8bf46aefc8f9"
      },
      "execution_count": 10,
      "outputs": [
        {
          "output_type": "execute_result",
          "data": {
            "text/plain": [
              "{'spreadsheetId': '13YaE-6uLp3mxA6hRJ1EsI0nXZ9idS0NGu04gydmZdxA',\n",
              " 'updatedRange': 'patten_1!A1:C10',\n",
              " 'updatedRows': 10,\n",
              " 'updatedColumns': 3,\n",
              " 'updatedCells': 30}"
            ]
          },
          "metadata": {},
          "execution_count": 10
        }
      ]
    }
  ]
}